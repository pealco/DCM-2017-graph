{
 "cells": [
  {
   "cell_type": "code",
   "execution_count": 1,
   "metadata": {
    "collapsed": false
   },
   "outputs": [],
   "source": [
    "from collections import defaultdict\n",
    "\n",
    "import networkx as nx\n",
    "from bs4 import BeautifulSoup\n",
    "import pandas as pd"
   ]
  },
  {
   "cell_type": "code",
   "execution_count": 2,
   "metadata": {
    "collapsed": true
   },
   "outputs": [],
   "source": [
    "# Parse the html file with all the performers and shows\n",
    "\n",
    "with open('performers2017.html', 'r') as html_doc:\n",
    "    data = html_doc.read()\n",
    "    \n",
    "soup = BeautifulSoup(data, 'html.parser')\n",
    "\n",
    "all_shows = defaultdict(list)\n",
    "rows = soup.find(id='performer_table').find_all('tr')\n",
    "for row in rows:\n",
    "    name = row.a.text.replace('  ', ' ')\n",
    "    shows = row.find_all('td')[1].text.strip().replace('\\t', '').split('\\n')\n",
    "    shows = [show.strip() for show in shows]\n",
    "\n",
    "    for show in shows:\n",
    "        all_shows[show].append(name)"
   ]
  },
  {
   "cell_type": "code",
   "execution_count": 3,
   "metadata": {
    "collapsed": false
   },
   "outputs": [],
   "source": [
    "# The person-show graph\n",
    "show_graph = nx.Graph()\n",
    "for show in all_shows:\n",
    "    show_graph.add_node(show)\n",
    "    for person in all_shows[show]:\n",
    "        show_graph.add_node(person)\n",
    "        show_graph.add_edge(person, show)"
   ]
  },
  {
   "cell_type": "code",
   "execution_count": 4,
   "metadata": {
    "collapsed": true
   },
   "outputs": [],
   "source": [
    "# The person-person graph\n",
    "people_graph = nx.Graph()\n",
    "for show in all_shows:\n",
    "    for person1 in all_shows[show]:\n",
    "        people_graph.add_node(person1)\n",
    "        for person2 in all_shows[show]:\n",
    "            people_graph.add_node(person2)\n",
    "            if person1 != person2:\n",
    "                people_graph.add_edge(person1, person2)"
   ]
  },
  {
   "cell_type": "code",
   "execution_count": 5,
   "metadata": {
    "collapsed": false
   },
   "outputs": [
    {
     "data": {
      "text/plain": [
       "4810"
      ]
     },
     "execution_count": 5,
     "metadata": {},
     "output_type": "execute_result"
    }
   ],
   "source": [
    "show_graph.size()"
   ]
  },
  {
   "cell_type": "code",
   "execution_count": 6,
   "metadata": {
    "collapsed": false
   },
   "outputs": [
    {
     "data": {
      "text/plain": [
       "17458"
      ]
     },
     "execution_count": 6,
     "metadata": {},
     "output_type": "execute_result"
    }
   ],
   "source": [
    "people_graph.size()"
   ]
  },
  {
   "cell_type": "code",
   "execution_count": 7,
   "metadata": {
    "collapsed": false
   },
   "outputs": [
    {
     "data": {
      "text/html": [
       "<div>\n",
       "<style>\n",
       "    .dataframe thead tr:only-child th {\n",
       "        text-align: right;\n",
       "    }\n",
       "\n",
       "    .dataframe thead th {\n",
       "        text-align: left;\n",
       "    }\n",
       "\n",
       "    .dataframe tbody tr th {\n",
       "        vertical-align: top;\n",
       "    }\n",
       "</style>\n",
       "<table border=\"1\" class=\"dataframe\">\n",
       "  <thead>\n",
       "    <tr style=\"text-align: right;\">\n",
       "      <th></th>\n",
       "      <th>name</th>\n",
       "      <th>degree</th>\n",
       "    </tr>\n",
       "  </thead>\n",
       "  <tbody>\n",
       "    <tr>\n",
       "      <th>1134</th>\n",
       "      <td>Alexandra Song</td>\n",
       "      <td>124</td>\n",
       "    </tr>\n",
       "    <tr>\n",
       "      <th>291</th>\n",
       "      <td>Caroline Cotter</td>\n",
       "      <td>103</td>\n",
       "    </tr>\n",
       "    <tr>\n",
       "      <th>825</th>\n",
       "      <td>Glorilis \"Glo\" Tavarez</td>\n",
       "      <td>100</td>\n",
       "    </tr>\n",
       "    <tr>\n",
       "      <th>674</th>\n",
       "      <td>Lui Vega</td>\n",
       "      <td>98</td>\n",
       "    </tr>\n",
       "    <tr>\n",
       "      <th>884</th>\n",
       "      <td>Patrick Keene</td>\n",
       "      <td>94</td>\n",
       "    </tr>\n",
       "    <tr>\n",
       "      <th>2204</th>\n",
       "      <td>Kelsey Bailey</td>\n",
       "      <td>87</td>\n",
       "    </tr>\n",
       "    <tr>\n",
       "      <th>192</th>\n",
       "      <td>Molly Gaebe</td>\n",
       "      <td>85</td>\n",
       "    </tr>\n",
       "    <tr>\n",
       "      <th>75</th>\n",
       "      <td>Andy Bustillos</td>\n",
       "      <td>85</td>\n",
       "    </tr>\n",
       "    <tr>\n",
       "      <th>944</th>\n",
       "      <td>Corin C Wells</td>\n",
       "      <td>84</td>\n",
       "    </tr>\n",
       "    <tr>\n",
       "      <th>641</th>\n",
       "      <td>Rachel Taenzler</td>\n",
       "      <td>84</td>\n",
       "    </tr>\n",
       "  </tbody>\n",
       "</table>\n",
       "</div>"
      ],
      "text/plain": [
       "                        name  degree\n",
       "1134          Alexandra Song     124\n",
       "291          Caroline Cotter     103\n",
       "825   Glorilis \"Glo\" Tavarez     100\n",
       "674                 Lui Vega      98\n",
       "884            Patrick Keene      94\n",
       "2204           Kelsey Bailey      87\n",
       "192              Molly Gaebe      85\n",
       "75            Andy Bustillos      85\n",
       "944            Corin C Wells      84\n",
       "641          Rachel Taenzler      84"
      ]
     },
     "execution_count": 7,
     "metadata": {},
     "output_type": "execute_result"
    }
   ],
   "source": [
    "degrees = pd.DataFrame([(k, v) for k, v in nx.degree(people_graph).iteritems()], columns=['name', 'degree'])\n",
    "degrees[~degrees.name.str.contains('June')].sort_values(by='degree', ascending=False).head(10)"
   ]
  },
  {
   "cell_type": "code",
   "execution_count": 8,
   "metadata": {
    "collapsed": false
   },
   "outputs": [
    {
     "data": {
      "text/html": [
       "<div>\n",
       "<style>\n",
       "    .dataframe thead tr:only-child th {\n",
       "        text-align: right;\n",
       "    }\n",
       "\n",
       "    .dataframe thead th {\n",
       "        text-align: left;\n",
       "    }\n",
       "\n",
       "    .dataframe tbody tr th {\n",
       "        vertical-align: top;\n",
       "    }\n",
       "</style>\n",
       "<table border=\"1\" class=\"dataframe\">\n",
       "  <thead>\n",
       "    <tr style=\"text-align: right;\">\n",
       "      <th></th>\n",
       "      <th>name</th>\n",
       "      <th>betweenness</th>\n",
       "    </tr>\n",
       "  </thead>\n",
       "  <tbody>\n",
       "    <tr>\n",
       "      <th>152</th>\n",
       "      <td>Shenovia Large</td>\n",
       "      <td>0.051350</td>\n",
       "    </tr>\n",
       "    <tr>\n",
       "      <th>601</th>\n",
       "      <td>Bob Vulfov</td>\n",
       "      <td>0.039067</td>\n",
       "    </tr>\n",
       "    <tr>\n",
       "      <th>97</th>\n",
       "      <td>Devin Ritchie</td>\n",
       "      <td>0.029745</td>\n",
       "    </tr>\n",
       "    <tr>\n",
       "      <th>307</th>\n",
       "      <td>Cecilia De Robertis</td>\n",
       "      <td>0.027676</td>\n",
       "    </tr>\n",
       "    <tr>\n",
       "      <th>1763</th>\n",
       "      <td>Dan Lee</td>\n",
       "      <td>0.027628</td>\n",
       "    </tr>\n",
       "    <tr>\n",
       "      <th>1521</th>\n",
       "      <td>JJ Jackson</td>\n",
       "      <td>0.023753</td>\n",
       "    </tr>\n",
       "    <tr>\n",
       "      <th>371</th>\n",
       "      <td>Richie Khanh</td>\n",
       "      <td>0.022864</td>\n",
       "    </tr>\n",
       "    <tr>\n",
       "      <th>418</th>\n",
       "      <td>Will Choi</td>\n",
       "      <td>0.019552</td>\n",
       "    </tr>\n",
       "    <tr>\n",
       "      <th>1239</th>\n",
       "      <td>Keiko Agena</td>\n",
       "      <td>0.019378</td>\n",
       "    </tr>\n",
       "    <tr>\n",
       "      <th>247</th>\n",
       "      <td>Adrian Frimpong</td>\n",
       "      <td>0.019132</td>\n",
       "    </tr>\n",
       "  </tbody>\n",
       "</table>\n",
       "</div>"
      ],
      "text/plain": [
       "                     name  betweenness\n",
       "152        Shenovia Large     0.051350\n",
       "601            Bob Vulfov     0.039067\n",
       "97          Devin Ritchie     0.029745\n",
       "307   Cecilia De Robertis     0.027676\n",
       "1763              Dan Lee     0.027628\n",
       "1521           JJ Jackson     0.023753\n",
       "371          Richie Khanh     0.022864\n",
       "418             Will Choi     0.019552\n",
       "1239          Keiko Agena     0.019378\n",
       "247       Adrian Frimpong     0.019132"
      ]
     },
     "execution_count": 8,
     "metadata": {},
     "output_type": "execute_result"
    }
   ],
   "source": [
    "people_betweenness = pd.DataFrame([(k, v) for k, v in nx.betweenness_centrality(people_graph).iteritems()], columns=['name', 'betweenness'])\n",
    "people_betweenness.sort_values(by='betweenness', ascending=False).head(10)"
   ]
  },
  {
   "cell_type": "code",
   "execution_count": 9,
   "metadata": {
    "collapsed": false
   },
   "outputs": [
    {
     "data": {
      "text/html": [
       "<div>\n",
       "<style>\n",
       "    .dataframe thead tr:only-child th {\n",
       "        text-align: right;\n",
       "    }\n",
       "\n",
       "    .dataframe thead th {\n",
       "        text-align: left;\n",
       "    }\n",
       "\n",
       "    .dataframe tbody tr th {\n",
       "        vertical-align: top;\n",
       "    }\n",
       "</style>\n",
       "<table border=\"1\" class=\"dataframe\">\n",
       "  <thead>\n",
       "    <tr style=\"text-align: right;\">\n",
       "      <th></th>\n",
       "      <th>name</th>\n",
       "      <th>betweenness</th>\n",
       "    </tr>\n",
       "  </thead>\n",
       "  <tbody>\n",
       "    <tr>\n",
       "      <th>769</th>\n",
       "      <td>Worldwide WOC Mash-Up Show Saturday June 24 3:...</td>\n",
       "      <td>0.060349</td>\n",
       "    </tr>\n",
       "    <tr>\n",
       "      <th>3036</th>\n",
       "      <td>Scarlett Johansson Presents Friday June 23 5:3...</td>\n",
       "      <td>0.055486</td>\n",
       "    </tr>\n",
       "    <tr>\n",
       "      <th>1075</th>\n",
       "      <td>ImmigrantProv Mash-Up Show Sunday June 25 1:30...</td>\n",
       "      <td>0.052333</td>\n",
       "    </tr>\n",
       "    <tr>\n",
       "      <th>3240</th>\n",
       "      <td>FUSION: An Asian Mash-Up Show Friday June 23 1...</td>\n",
       "      <td>0.048387</td>\n",
       "    </tr>\n",
       "    <tr>\n",
       "      <th>538</th>\n",
       "      <td>Lost In Translation Mash-Up Show Saturday June...</td>\n",
       "      <td>0.034886</td>\n",
       "    </tr>\n",
       "    <tr>\n",
       "      <th>2361</th>\n",
       "      <td>Older Than Most Mash-Up Show Saturday June 24 ...</td>\n",
       "      <td>0.030835</td>\n",
       "    </tr>\n",
       "    <tr>\n",
       "      <th>2284</th>\n",
       "      <td>Queer, Far, Wherever You Are Mash Up Show Satu...</td>\n",
       "      <td>0.030332</td>\n",
       "    </tr>\n",
       "    <tr>\n",
       "      <th>765</th>\n",
       "      <td>Tribes Saturday June 24 10:00pm TNC - Cino</td>\n",
       "      <td>0.027879</td>\n",
       "    </tr>\n",
       "    <tr>\n",
       "      <th>1303</th>\n",
       "      <td>Getting Out Of Jury Duty with Judge Richard FI...</td>\n",
       "      <td>0.026374</td>\n",
       "    </tr>\n",
       "    <tr>\n",
       "      <th>1857</th>\n",
       "      <td>Better With With Some Color Saturday June 24 2...</td>\n",
       "      <td>0.023092</td>\n",
       "    </tr>\n",
       "  </tbody>\n",
       "</table>\n",
       "</div>"
      ],
      "text/plain": [
       "                                                   name  betweenness\n",
       "769   Worldwide WOC Mash-Up Show Saturday June 24 3:...     0.060349\n",
       "3036  Scarlett Johansson Presents Friday June 23 5:3...     0.055486\n",
       "1075  ImmigrantProv Mash-Up Show Sunday June 25 1:30...     0.052333\n",
       "3240  FUSION: An Asian Mash-Up Show Friday June 23 1...     0.048387\n",
       "538   Lost In Translation Mash-Up Show Saturday June...     0.034886\n",
       "2361  Older Than Most Mash-Up Show Saturday June 24 ...     0.030835\n",
       "2284  Queer, Far, Wherever You Are Mash Up Show Satu...     0.030332\n",
       "765          Tribes Saturday June 24 10:00pm TNC - Cino     0.027879\n",
       "1303  Getting Out Of Jury Duty with Judge Richard FI...     0.026374\n",
       "1857  Better With With Some Color Saturday June 24 2...     0.023092"
      ]
     },
     "execution_count": 9,
     "metadata": {},
     "output_type": "execute_result"
    }
   ],
   "source": [
    "show_betweenness = pd.DataFrame([(k, v) for k, v in nx.betweenness_centrality(show_graph).iteritems()], columns=['name', 'betweenness'])\n",
    "show_betweenness[show_betweenness.name.str.contains('June')].sort_values(by=\"betweenness\", ascending=False).head(10)"
   ]
  },
  {
   "cell_type": "code",
   "execution_count": 10,
   "metadata": {
    "collapsed": false
   },
   "outputs": [],
   "source": [
    "# Output graphml for analysis in Gephi.\n",
    "nx.write_graphml(people_graph, 'dcm2017.graphml')\n",
    "nx.write_graphml(show_graph, 'shows_dcm2017.graphml')"
   ]
  }
 ],
 "metadata": {
  "kernelspec": {
   "display_name": "Python 2",
   "language": "python",
   "name": "python2"
  },
  "language_info": {
   "codemirror_mode": {
    "name": "ipython",
    "version": 2
   },
   "file_extension": ".py",
   "mimetype": "text/x-python",
   "name": "python",
   "nbconvert_exporter": "python",
   "pygments_lexer": "ipython2",
   "version": "2.7.13"
  }
 },
 "nbformat": 4,
 "nbformat_minor": 0
}
